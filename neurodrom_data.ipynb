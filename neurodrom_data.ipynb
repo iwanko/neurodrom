{
 "cells": [
  {
   "cell_type": "code",
   "execution_count": 2,
   "metadata": {},
   "outputs": [],
   "source": [
    "import urllib3, re\n",
    "import pandas as pd\n",
    "import numpy as np\n",
    "import matplotlib.pyplot as plt\n",
    "from tqdm import tqdm\n",
    "from random import random, randint"
   ]
  },
  {
   "cell_type": "code",
   "execution_count": 2,
   "metadata": {},
   "outputs": [],
   "source": [
    "http = urllib3.PoolManager()"
   ]
  },
  {
   "cell_type": "code",
   "execution_count": 3,
   "metadata": {},
   "outputs": [],
   "source": [
    "import warnings\n",
    "warnings.filterwarnings('ignore')"
   ]
  },
  {
   "cell_type": "code",
   "execution_count": 5,
   "metadata": {},
   "outputs": [],
   "source": [
    "def namefromaddr(addr):\n",
    "    addr = addr[addr.find('.ru/')+4 : addr.rfind('/')]\n",
    "    return addr[:addr.find('/')], addr[addr.find('/')+1:]"
   ]
  },
  {
   "cell_type": "code",
   "execution_count": 204,
   "metadata": {},
   "outputs": [],
   "source": [
    "data = pd.DataFrame(columns = ['num', 'maker', 'model', 'head', 'price', 'engine', 'power',\n",
    "                              'gears', 'drive', 'body', 'color', 'mile', 'wheel', 'notes',\n",
    "                               'gen', 'trim', 'exch', 'descr', 'card'])"
   ]
  },
  {
   "cell_type": "code",
   "execution_count": 167,
   "metadata": {},
   "outputs": [],
   "source": [
    "def clean(s):\n",
    "    return s[s.rfind('>') + 1 : -1]\n",
    "\n",
    "head = re.compile('''n0\">Продажа (.*?)<''')\n",
    "price = re.compile('''1hu13v1 e162wx9x0\">(.*?)<''')\n",
    "eng = re.compile('''fvoogh e162wx9x0\">(.*?)<''')\n",
    "hp = re.compile('''css-1v24z2u e1wvjnck0\">(.*?)<''')\n",
    "trans = re.compile(\"миссия</th><td colSpan=\\\"1\\\" class=\\\"css-1uz0iw8 ezjvm5n1\\\">(.*?)\\<\")\n",
    "wd = re.compile('''вод</th><td colSpan=\"1\" class=\"css-1uz0iw8 ezjvm5n1\">(.*?)<''')\n",
    "body = re.compile('''зова</th><td colSpan=\"1\" class=\"css-1uz0iw8 ezjvm5n1\">(.*?)<''')\n",
    "clr = re.compile( '''вет</th><td colSpan=\"1\" class=\"css-1uz0iw8 ezjvm5n1\">(.*?)<''' )\n",
    "mile = re.compile('''км</th><td colSpan=\"1\" class=\"css-1uz0iw8 ezjvm5n1\">(.*?)<''')\n",
    "mile_ = re.compile('''бег</th''')\n",
    "wheel = re.compile('''уль</th><td colSpan=\"1\" class=\"css-1uz0iw8 ezjvm5n1\">(.*?)<''')\n",
    "notes = re.compile('''1\"><span class=\"css-fvoogh e162wx9x0\">(.*?)<''')\n",
    "gen = re.compile('''ние</th><td colSpan=\"1\" class=\"css-1uz0iw8 ezjvm5n1\">\"(.*?)<''')\n",
    "gen_ = re.compile('''generation_link\" data-ga-stats-track-click=\"true\" class=\"css-ypktkp e1oy5ngb0\">(.*?)\\<''')\n",
    "comp = re.compile('''complectation_link\" data-ga-stats-track-click=\"true\" class=\"css-ypktkp e1oy5ngb0\">(.*?)\\<''')\n",
    "exch = re.compile('''мен<!-- -->: </span><span class=\"css-11eoza4 e162wx9x0\">(.*?)<''')\n",
    "dscr = re.compile('''ьно<!-- -->: </span><span class=\"css-11eoza4 e162wx9x0\">(.*?)</''', re.DOTALL)\n",
    "card = re.compile('''ru/\\S{1,50}/\" class=\"css-ioq5yh e1wvjnck0\">(.*?)<''')\n",
    "\n",
    "params = [eng, hp, trans, wd, body, clr, mile, wheel, notes, comp, exch]\n",
    "names = ['head', 'price', 'engine', 'power', 'gears', 'drive', 'body', 'color', 'mile', 'wheel', 'notes', 'trim', 'exch']\n",
    "\n",
    "def parse(html):\n",
    "    \n",
    "    out = {}\n",
    "    for entry in zip(names[:2], [head, price]): ########## head and price\n",
    "        hds = clean( re.search(entry[1], html)[0] )\n",
    "        #print(entry[0], hds, sep = ': ')\n",
    "        out[entry[0]] = hds\n",
    "    for en in zip(names[2:], params): ################### other entries\n",
    "        ent = re.search(en[1], html)\n",
    "        if ent:\n",
    "            ent = clean(ent[0])\n",
    "        else:\n",
    "            ent = ''\n",
    "        #print(en[0], ent, sep=': ')\n",
    "        out[en[0]] = ent\n",
    "    if re.search(mile, html):\n",
    "        if out['mile']: print('something wrong: ', out['mile'], ' km')\n",
    "        out['mile'] = '0'\n",
    "    dsc = re.search(dscr, html) ############################## descr\n",
    "    if dsc: \n",
    "        dsc = dsc[0][56: -2]\n",
    "        dsc = re.sub( '''<br(\\s.)?>'''  , ' ', re.sub('''[\\r\\n]''','',dsc))\n",
    "    else: dsc = ''\n",
    "    out['descr'] = dsc\n",
    "    gen_1 = re.search(gen, html) ######################### generation\n",
    "    res = None\n",
    "    if gen_1:\n",
    "        res = clean(gen_1[0])\n",
    "    else:\n",
    "        gen_2 = re.search(gen, html)\n",
    "        if gen_2:\n",
    "            res = clean(gen_2[0])\n",
    "        else:\n",
    "            res = ''\n",
    "    out['gen'] = res\n",
    "    #print('gen', res, sep=': ')\n",
    "    car = re.search(card, html) ############################# dealer card\n",
    "    if car:\n",
    "        car = car[0]\n",
    "        id_br = car.rfind('>')\n",
    "        car = car[id_br+1:-1] + '^' + car[3:id_br - 31]\n",
    "    else:\n",
    "        car = ''\n",
    "    if re.search('''твенника</d''', html):\n",
    "        car =  car + '='\n",
    "    out['card'] = car\n",
    "    \n",
    "    return out"
   ]
  },
  {
   "cell_type": "code",
   "execution_count": 205,
   "metadata": {},
   "outputs": [
    {
     "name": "stderr",
     "output_type": "stream",
     "text": [
      "100%|██████████████████████████████████████████████████████████████████████████████████| 10/10 [00:08<00:00,  1.24it/s]\n"
     ]
    }
   ],
   "source": [
    "st = 41340045 # around 2021 Feb 20th\n",
    "for i in tqdm(range(10)):\n",
    "    lnk = 'https://auto.drom.ru/lexus/lx570/' + str(st + i) + '.html'\n",
    "    r = http.request('GET', lnk, retries=2)\n",
    "    html = r.data.decode('windows-1251', errors='ignore')\n",
    "    if len(r.retries.history) < 2:\n",
    "        maker, model = namefromaddr( r.retries.history[0].redirect_location )\n",
    "        if re.search(re.compile('''n0\">Продажа'''), html):\n",
    "            dic = parse(html)\n",
    "            dic['maker'] = maker\n",
    "            dic['model'] = model\n",
    "            dic['num'] = st + i\n",
    "            data = data.append(dic, ignore_index = True)\n",
    "    if i % 2500 == 2499:\n",
    "        data.to_pickle('data_'+str(st + i - 40000000)+'.pkl', compression='gzip', protocol=3)"
   ]
  },
  {
   "cell_type": "code",
   "execution_count": 5,
   "metadata": {},
   "outputs": [],
   "source": [
    "def df_clean(data, desc=True):\n",
    "    \"\"\"\n",
    "    cleaning of unnecessary files\n",
    "    \"\"\"\n",
    "    data['price'] = data['price'].apply(lambda x: x.replace(u'\\xa0',''))\n",
    "    data['mile'] = data['mile'].apply(lambda x: x.replace(' ', ''))\n",
    "    data['head'] = data['head'].apply(lambda x: x[8:] if x[0] == 'П' else x)\n",
    "    data['descr'] = data['descr'].apply(lambda x: re.sub(''' ?\\t+ ?''', ' ', x))\n",
    "    if desc:\n",
    "        data['descr'] = data['descr'].apply(lambda x: re.sub('&#(.*?);', '', x.replace('`', '').replace('}', '')\\\n",
    "                        .replace('|', '').replace('*', ''))) # ** \n",
    "    return data"
   ]
  },
  {
   "cell_type": "code",
   "execution_count": null,
   "metadata": {},
   "outputs": [],
   "source": [
    "# Plot text lengths\n",
    "arr =  data['descr'].map(len).values\n",
    "print(arr.mean())\n",
    "plt.figure(figsize=(18,5))\n",
    "plt.hist(arr, bins=100, range=(0, 800))\n",
    "plt.xticks(range(0, 800, 25))\n",
    "plt.show()"
   ]
  },
  {
   "cell_type": "code",
   "execution_count": null,
   "metadata": {},
   "outputs": [],
   "source": [
    "syms = data['descr'].str.findall('&#(.*?);').value_counts()\n",
    "syms"
   ]
  },
  {
   "cell_type": "markdown",
   "metadata": {},
   "source": [
    "#### ----------------------- FILTERING AND BALANCING"
   ]
  },
  {
   "cell_type": "code",
   "execution_count": 13,
   "metadata": {},
   "outputs": [],
   "source": [
    "def make_mod(data):\n",
    "    mkrs = data['maker'].value_counts()\n",
    "    mdls = data['model'].value_counts()\n",
    "    dic1 = dict(zip(mkrs.keys(), mkrs.values))\n",
    "    dic2 = dict(zip(mdls.keys(), mdls.values))\n",
    "    return dic1, dic2"
   ]
  },
  {
   "cell_type": "code",
   "execution_count": 877,
   "metadata": {},
   "outputs": [],
   "source": [
    "dic1, dic2 = make_mod(data)"
   ]
  },
  {
   "cell_type": "code",
   "execution_count": null,
   "metadata": {},
   "outputs": [],
   "source": [
    "dic2"
   ]
  },
  {
   "cell_type": "code",
   "execution_count": 879,
   "metadata": {},
   "outputs": [
    {
     "name": "stdout",
     "output_type": "stream",
     "text": [
      "42.59789644012945\n"
     ]
    },
    {
     "data": {
      "image/png": "[encoded data removed]",
      "text/plain": [
       "<Figure size 1152x288 with 1 Axes>"
      ]
     },
     "metadata": {},
     "output_type": "display_data"
    }
   ],
   "source": [
    "print(np.mean(np.array(list(dic2.values()))))\n",
    "plt.figure(figsize=(16,4))\n",
    "plt.hist(list(dic2.values()), bins=100)\n",
    "plt.show()"
   ]
  },
  {
   "cell_type": "code",
   "execution_count": 880,
   "metadata": {},
   "outputs": [
    {
     "data": {
      "text/plain": [
       "(52651, 28332)"
      ]
     },
     "execution_count": 880,
     "metadata": {},
     "output_type": "execute_result"
    }
   ],
   "source": [
    "########################## CAR MODEL BALANCING ##########################\n",
    "l = len(data)\n",
    "mean = np.mean(np.array(list(dic2.values()))) * 10\n",
    "mask = np.ones(l, dtype=bool)\n",
    "for j in range(l):\n",
    "    if dic2[data['model'][j]] > 2 * mean:\n",
    "        mask[j] = random() > 0.60\n",
    "    elif dic2[data['model'][j]] > 1.4:\n",
    "        mask[j] = random() > 0.45\n",
    "len(mask), mask.sum()"
   ]
  },
  {
   "cell_type": "code",
   "execution_count": 881,
   "metadata": {},
   "outputs": [],
   "source": [
    "data = data[mask]\n",
    "data = data.reset_index(drop=True)"
   ]
  },
  {
   "cell_type": "code",
   "execution_count": 886,
   "metadata": {},
   "outputs": [
    {
     "data": {
      "text/plain": [
       "(28332, 19284)"
      ]
     },
     "execution_count": 886,
     "metadata": {},
     "output_type": "execute_result"
    }
   ],
   "source": [
    "############################## STEERING WHEEL BALANCING ##############################\n",
    "l2 = len(data)\n",
    "mask2 = np.ones(l2, dtype=bool)\n",
    "for j in range(l2):\n",
    "    if data['wheel'][j] == 'левый':\n",
    "        mask2[j] = random() > 0.5\n",
    "#     elif dic2[data['model'][j]] > 1.4:\n",
    "#         mask[j] = random() > 0.55\n",
    "len(mask2), mask2.sum()"
   ]
  },
  {
   "cell_type": "code",
   "execution_count": 887,
   "metadata": {},
   "outputs": [],
   "source": [
    "data = data[mask2]\n",
    "data = data.reset_index(drop=True)"
   ]
  },
  {
   "cell_type": "markdown",
   "metadata": {},
   "source": [
    "#### ----------------------------- BEST -----------------------------"
   ]
  },
  {
   "cell_type": "code",
   "execution_count": 130,
   "metadata": {},
   "outputs": [],
   "source": [
    "### Filter texts by lower length limit\n",
    "def filterb(data, n = 100):\n",
    "    return data[data['descr'].map(len) > n]"
   ]
  },
  {
   "cell_type": "code",
   "execution_count": 131,
   "metadata": {},
   "outputs": [],
   "source": [
    "### Filter texts by higher length limit (low-pass)\n",
    "def filter_low(data, n = 800):\n",
    "    return data[data['descr'].map(len) > n]"
   ]
  },
  {
   "cell_type": "code",
   "execution_count": null,
   "metadata": {},
   "outputs": [],
   "source": [
    "best = filterb(data, 100)\n",
    "lb = len(best)\n",
    "lb"
   ]
  },
  {
   "cell_type": "code",
   "execution_count": null,
   "metadata": {},
   "outputs": [],
   "source": [
    "# best = filter_low(best, 800)\n",
    "# lb = len(best)\n",
    "# lb"
   ]
  },
  {
   "cell_type": "code",
   "execution_count": 806,
   "metadata": {},
   "outputs": [],
   "source": [
    "best = df_clean(best)"
   ]
  },
  {
   "cell_type": "code",
   "execution_count": 893,
   "metadata": {},
   "outputs": [],
   "source": [
    "lns = []\n",
    "for i in range(lb):\n",
    "    lns.append(len('; '.join(best.iloc[i, 3:-1])))"
   ]
  },
  {
   "cell_type": "code",
   "execution_count": 894,
   "metadata": {},
   "outputs": [
    {
     "data": {
      "image/png": "[encoded data removed]",
      "text/plain": [
       "<Figure size 432x288 with 1 Axes>"
      ]
     },
     "metadata": {},
     "output_type": "display_data"
    }
   ],
   "source": [
    "plt.hist(lns, bins=40)\n",
    "plt.show()"
   ]
  },
  {
   "cell_type": "markdown",
   "metadata": {},
   "source": [
    "#### ------------------ DATA LOADING"
   ]
  },
  {
   "cell_type": "code",
   "execution_count": 442,
   "metadata": {},
   "outputs": [],
   "source": [
    "#dat = pd.read_pickle('dataf0.pkl', compression='gzip')\n",
    "da = pd.read_pickle('./data_1125044.pkl', compression='gzip')\n",
    "#da =pd.read_pickle('./data_1111044.pkl', compression='gzip')"
   ]
  },
  {
   "cell_type": "code",
   "execution_count": 3,
   "metadata": {},
   "outputs": [],
   "source": [
    "data = pd.read_pickle('./data_1360044.pkl', compression='gzip')"
   ]
  },
  {
   "cell_type": "code",
   "execution_count": 427,
   "metadata": {},
   "outputs": [],
   "source": [
    "da1 = data[18326:52651]"
   ]
  },
  {
   "cell_type": "code",
   "execution_count": 2566,
   "metadata": {},
   "outputs": [],
   "source": [
    "vc0 = data['descr'].apply(lambda x: x[:16]).value_counts()\n",
    "dict(vc0[50:100])"
   ]
  },
  {
   "cell_type": "code",
   "execution_count": 2591,
   "metadata": {},
   "outputs": [
    {
     "data": {
      "text/plain": [
       "47049"
      ]
     },
     "execution_count": 2591,
     "metadata": {},
     "output_type": "execute_result"
    }
   ],
   "source": [
    "# data = data[data['descr'].apply(lambda x: map_reg(x, regs))]\n",
    "# #data.reset_index(dr)\n",
    "# len(data)"
   ]
  },
  {
   "cell_type": "code",
   "execution_count": null,
   "metadata": {},
   "outputs": [],
   "source": [
    "data.shape#, da5.shape"
   ]
  },
  {
   "cell_type": "markdown",
   "metadata": {},
   "source": [
    "#### -------------------------------- messing around ------------------------------------------------"
   ]
  },
  {
   "cell_type": "code",
   "execution_count": 6,
   "metadata": {},
   "outputs": [],
   "source": [
    "#data = df_clean(data)\n",
    "data = df_clean(data, False)"
   ]
  },
  {
   "cell_type": "code",
   "execution_count": 7,
   "metadata": {},
   "outputs": [],
   "source": [
    "data.drop(columns = ['head', 'price', 'engine', 'power', 'gears', 'drive', 'body',\n",
    "                           'color', 'mile', 'wheel', 'notes',  'gen', 'trim', 'exch'], inplace = True)"
   ]
  },
  {
   "cell_type": "code",
   "execution_count": 435,
   "metadata": {},
   "outputs": [
    {
     "name": "stdout",
     "output_type": "stream",
     "text": [
      ">>> 41200459 се деньги ^)\n",
      ">>> 41201165 смартфона)^ - произведена тонир\n",
      ">>> 41234633 мятинок , ^подсказываю^ он в ав\n",
      ">>> 41243999 е диски 18^, рейлинги серебрист\n",
      ">>> 41247189 ПЛЕКТАЦИЯ ^ Кондиционер. Подогр\n"
     ]
    }
   ],
   "source": [
    "#len(data) # = 134514\n",
    "for i in range(134514) :\n",
    "    el = data.iloc[i]\n",
    "    res = re.search('''\\^''', el['descr'])\n",
    "    if res:\n",
    "        print('''>>>''', el['num'], el['descr'][res.start() - 10 : res.end()+20])"
   ]
  },
  {
   "cell_type": "code",
   "execution_count": 290,
   "metadata": {},
   "outputs": [],
   "source": [
    "da2.to_pickle('./data_1220044.pkl', compression='gzip')"
   ]
  },
  {
   "cell_type": "code",
   "execution_count": null,
   "metadata": {},
   "outputs": [],
   "source": []
  },
  {
   "cell_type": "code",
   "execution_count": null,
   "metadata": {},
   "outputs": [],
   "source": [
    "matches = []\n",
    "with open('stopword.txt', 'r', encoding='utf-8') as f:\n",
    "    for ln in f:\n",
    "        matches.append(ln.rstrip())\n",
    "matches"
   ]
  },
  {
   "cell_type": "code",
   "execution_count": 38,
   "metadata": {},
   "outputs": [],
   "source": [
    "regs = [re.compile(el) for el in matches]"
   ]
  },
  {
   "cell_type": "code",
   "execution_count": 40,
   "metadata": {},
   "outputs": [],
   "source": [
    "def filter_reg(data, regs):\n",
    "    l0 = len(data)\n",
    "    reg_idx = np.ones(l0, dtype=bool)\n",
    "    for i in tqdm(range(l0)):\n",
    "        for rr in regs:\n",
    "            if re.match(rr, data.iloc[i, -1]): ######################## <<<<<<<<!!!!!!!!!!!!\n",
    "                reg_idx[i] = False\n",
    "                break\n",
    "    return reg_idx"
   ]
  },
  {
   "cell_type": "code",
   "execution_count": 148,
   "metadata": {},
   "outputs": [],
   "source": [
    "def filter_reg_(data, regs):\n",
    "    l0 = len(data)\n",
    "    reg_idx = np.ones(l0, dtype=bool)\n",
    "    for i in tqdm(range(l0)):\n",
    "        for rr in regs:\n",
    "            if re.match(rr, data.iloc[i, -2]):\n",
    "                reg_idx[i] = False\n",
    "                if rr.pattern in regs_used:\n",
    "                    regs_used[rr.pattern] += 1\n",
    "                else:\n",
    "                    regs_used[rr.pattern] = 1\n",
    "                    #print('added: '+ rr.pattern)\n",
    "                break\n",
    "    return reg_idx"
   ]
  },
  {
   "cell_type": "code",
   "execution_count": 41,
   "metadata": {},
   "outputs": [],
   "source": [
    "def map_reg(st, regs):\n",
    "    for rr in regs:\n",
    "        if re.match(rr, st):\n",
    "            return False\n",
    "    return True"
   ]
  },
  {
   "cell_type": "code",
   "execution_count": null,
   "metadata": {},
   "outputs": [],
   "source": [
    "#da2 = df_clean(da2)"
   ]
  },
  {
   "cell_type": "code",
   "execution_count": 463,
   "metadata": {},
   "outputs": [],
   "source": [
    "#dat = df_clean(dat, False)"
   ]
  },
  {
   "cell_type": "code",
   "execution_count": null,
   "metadata": {},
   "outputs": [],
   "source": [
    "#data[data['descr'].apply(len)<100][:40]\n",
    "data[data['card'].apply(len)>10][:40]"
   ]
  },
  {
   "cell_type": "code",
   "execution_count": null,
   "metadata": {},
   "outputs": [],
   "source": [
    "plt.figure(figsize=(16, 4))\n",
    "plt.hist(data['descr'].apply(len), bins=100, range=(0, 2000))\n",
    "plt.grid(True)\n",
    "plt.show()"
   ]
  },
  {
   "cell_type": "code",
   "execution_count": null,
   "metadata": {},
   "outputs": [],
   "source": [
    "#########################################################################################"
   ]
  },
  {
   "cell_type": "code",
   "execution_count": 14,
   "metadata": {},
   "outputs": [],
   "source": [
    "\n",
    "dic1, dic2 = make_mod(data)"
   ]
  },
  {
   "cell_type": "code",
   "execution_count": 331,
   "metadata": {},
   "outputs": [],
   "source": [
    "mdls = pd.Series(dic2)\n",
    "mdls.groupby(mdls.values).count()"
   ]
  },
  {
   "cell_type": "code",
   "execution_count": null,
   "metadata": {},
   "outputs": [],
   "source": [
    "dic2"
   ]
  },
  {
   "cell_type": "code",
   "execution_count": 16,
   "metadata": {},
   "outputs": [
    {
     "data": {
      "text/plain": [
       "186.80937818552496"
      ]
     },
     "execution_count": 16,
     "metadata": {},
     "output_type": "execute_result"
    }
   ],
   "source": [
    "#l = len(data0)\n",
    "mean = np.mean(np.array(list(dic2.values()))) * 10\n",
    "mean"
   ]
  },
  {
   "cell_type": "code",
   "execution_count": 21,
   "metadata": {},
   "outputs": [],
   "source": [
    "ids_more = data[data['model'].apply(lambda x: dic2[x]>mean)].index\n",
    "ids_less = data[data['model'].apply(lambda x: dic2[x] <= mean)].index\n",
    "\n",
    "len(ids_more), len(ids_less)"
   ]
  },
  {
   "cell_type": "code",
   "execution_count": 22,
   "metadata": {},
   "outputs": [],
   "source": [
    "dlens0 = data.loc[ids_more, 'descr'].apply(len)\n",
    "dlens_ =  data.loc[ids_less, 'descr'].apply(len)"
   ]
  },
  {
   "cell_type": "code",
   "execution_count": 24,
   "metadata": {},
   "outputs": [],
   "source": [
    "ids_comb = (dlens_ > 300).append(dlens0 > 500 ) \n",
    "ids_comb.sum()"
   ]
  },
  {
   "cell_type": "code",
   "execution_count": 25,
   "metadata": {},
   "outputs": [
    {
     "data": {
      "text/plain": [
       "(7171, 1203, 8374)"
      ]
     },
     "execution_count": 25,
     "metadata": {},
     "output_type": "execute_result"
    }
   ],
   "source": [
    "(dlens_ > 300).sum(), (dlens0 > 500 ) .sum(), ids_comb.sum()"
   ]
  },
  {
   "cell_type": "code",
   "execution_count": null,
   "metadata": {},
   "outputs": [],
   "source": [
    "#####################################################################################"
   ]
  },
  {
   "cell_type": "code",
   "execution_count": 76,
   "metadata": {},
   "outputs": [],
   "source": [
    "best = data[ids_comb]#.sort_index()"
   ]
  },
  {
   "cell_type": "code",
   "execution_count": null,
   "metadata": {},
   "outputs": [],
   "source": [
    "data[idscomp].iloc[110, -2]"
   ]
  },
  {
   "cell_type": "code",
   "execution_count": 135,
   "metadata": {},
   "outputs": [],
   "source": [
    "best = filterb(data, 100)"
   ]
  },
  {
   "cell_type": "code",
   "execution_count": 144,
   "metadata": {},
   "outputs": [
    {
     "data": {
      "text/plain": [
       "65258"
      ]
     },
     "execution_count": 144,
     "metadata": {},
     "output_type": "execute_result"
    }
   ],
   "source": [
    "len(best)# , decide(''), "
   ]
  },
  {
   "cell_type": "code",
   "execution_count": null,
   "metadata": {},
   "outputs": [],
   "source": [
    "data[data['descr'].apply(lambda x: x[:8]) == 'Возможна']#[100:]"
   ]
  },
  {
   "cell_type": "code",
   "execution_count": 145,
   "metadata": {},
   "outputs": [
    {
     "data": {
      "text/plain": [
       "45616"
      ]
     },
     "execution_count": 145,
     "metadata": {},
     "output_type": "execute_result"
    }
   ],
   "source": [
    "best = best[best['card'].apply(decide)]\n",
    "len(best)"
   ]
  },
  {
   "cell_type": "code",
   "execution_count": 149,
   "metadata": {},
   "outputs": [
    {
     "name": "stderr",
     "output_type": "stream",
     "text": [
      "100%|███████████████████████████████████████████████████████████████████████████| 45616/45616 [03:50<00:00, 197.82it/s]\n"
     ]
    }
   ],
   "source": [
    "regs_used = dict()\n",
    "ids_regs = filter_reg_(best, regs)"
   ]
  },
  {
   "cell_type": "code",
   "execution_count": null,
   "metadata": {},
   "outputs": [],
   "source": [
    "sorted([(k, v) for k, v in regs_used.items()],key = lambda x: x[1], reverse=True)"
   ]
  },
  {
   "cell_type": "code",
   "execution_count": null,
   "metadata": {},
   "outputs": [],
   "source": [
    "#best[best['descr'].apply(lambda x: x[:1]) == '\"'][40:]#[100:]\n",
    "best[(best['descr'].apply(lambda x: x[:4]) == 'Ауди') & (best['card'].apply(decide))]#[100:]"
   ]
  },
  {
   "cell_type": "code",
   "execution_count": null,
   "metadata": {},
   "outputs": [],
   "source": [
    "## Unfiltered during card filter; real names\n",
    "best[best['card'].apply(lambda x: bool(x))]"
   ]
  },
  {
   "cell_type": "code",
   "execution_count": 51,
   "metadata": {},
   "outputs": [],
   "source": [
    "best.drop(columns = 'card', inplace = True)"
   ]
  },
  {
   "cell_type": "code",
   "execution_count": 2654,
   "metadata": {},
   "outputs": [
    {
     "data": {
      "text/plain": [
       "(59848, 32177)"
      ]
     },
     "execution_count": 2654,
     "metadata": {},
     "output_type": "execute_result"
    }
   ],
   "source": [
    "######################################################################## model balancing\n",
    "mask = np.ones(l, dtype=bool)\n",
    "for j in range(l):\n",
    "    if dic2[data0['model'][j]] > 2 * mean:\n",
    "        mask[j] = random() > 0.60\n",
    "    elif dic2[data0['model'][j]] > 1.4:\n",
    "        mask[j] = random() > 0.45\n",
    "len(mask), mask.sum()"
   ]
  },
  {
   "cell_type": "code",
   "execution_count": null,
   "metadata": {},
   "outputs": [],
   "source": [
    "plt.figure(figsize=(16, 4))\n",
    "#plt.hist( [len(x[2]) for x in cards ] , bins = 99, range=(1, 100))\n",
    "plt.hist( dlens_ , bins = 100, color = 'y')\n",
    "plt.hist( dlens0 , bins = 100)\n",
    "\n",
    "#plt.ylim((0, 300))\n",
    "#plt.xlim((0, 50))\n",
    "plt.grid(True)\n",
    "plt.plot()\n",
    "#max([len(x[2]) for x in cards ])"
   ]
  },
  {
   "cell_type": "markdown",
   "metadata": {},
   "source": [
    "#### ------------------- WRITE TO FILE"
   ]
  },
  {
   "cell_type": "code",
   "execution_count": 53,
   "metadata": {},
   "outputs": [],
   "source": [
    "def writetof(data, filen, n = None,):\n",
    "    if not n:\n",
    "        n = len(data)\n",
    "    assert n <= len(data), 'too much ns'\n",
    "    with open(filen, 'w', encoding = 'utf-8') as f:\n",
    "        for i in range(n):\n",
    "            f.writelines('; '.join(data.iloc[i, 3:]) + '\\n')"
   ]
  },
  {
   "cell_type": "code",
   "execution_count": 54,
   "metadata": {},
   "outputs": [],
   "source": [
    "writetof(best, 'tx4_3h5h.txt')"
   ]
  },
  {
   "cell_type": "code",
   "execution_count": 29,
   "metadata": {},
   "outputs": [],
   "source": [
    "def filestat(filen, enc = None):\n",
    "    with open(filen, 'r', encoding=enc\n",
    "             ) as f:\n",
    "        lens = [len(s) for s in f]\n",
    "        return sum(lens), len(lens), sum(lens)/ len(lens)"
   ]
  },
  {
   "cell_type": "code",
   "execution_count": 30,
   "metadata": {},
   "outputs": [],
   "source": [
    "def filest(filen, enc = None):\n",
    "    with open(filen, 'r', encoding=enc) as f:\n",
    "        lens = [len(s) for s in f]\n",
    "        return lens"
   ]
  },
  {
   "cell_type": "code",
   "execution_count": 2661,
   "metadata": {},
   "outputs": [
    {
     "data": {
      "text/plain": [
       "(6069573, 10171, 596.7528266640448)"
      ]
     },
     "execution_count": 2661,
     "metadata": {},
     "output_type": "execute_result"
    }
   ],
   "source": [
    "filestat('tx4_200.txt', enc='utf-8')"
   ]
  },
  {
   "cell_type": "markdown",
   "metadata": {},
   "source": [
    "######################################################################################################"
   ]
  },
  {
   "cell_type": "code",
   "execution_count": 492,
   "metadata": {},
   "outputs": [
    {
     "data": {
      "text/plain": [
       "'Антон, Юра, Дима, Вадим, Алексе, паша, Андрей, сергей, макс\\\\S?\\\\S?, василий, александр, роман, игорь, денис, евгений, Владислав, Никита, дмитрий, олег, павел, Михаил, Иван, вячеслав, Семен, арт\\\\Sм, Елизавета, Константин, александр, Виталий, Ирина, Вадим, Валерий, Виктор, Илья, Анна, Кристина, Василий, Михаил, наталья, dealer103116, dealer49762'"
      ]
     },
     "execution_count": 492,
     "metadata": {},
     "output_type": "execute_result"
    }
   ],
   "source": [
    "############################################################################################\n",
    "################################################# NAMES ############################################\n",
    "with open('gen_0.txt', 'r', encoding='utf-8') as f:\n",
    "    names = f.readline().rstrip().split(', ')\n",
    "', '.join(names)"
   ]
  },
  {
   "cell_type": "code",
   "execution_count": 32,
   "metadata": {},
   "outputs": [],
   "source": [
    "def check_reg(st, regs, case=True):\n",
    "    for rr in regs:\n",
    "        if case:\n",
    "            if re.match(re.compile(rr, re.IGNORECASE), st):\n",
    "                return True\n",
    "        else:\n",
    "            if re.match(re.compile(rr), st):\n",
    "                return True\n",
    "    return False"
   ]
  },
  {
   "cell_type": "code",
   "execution_count": 33,
   "metadata": {},
   "outputs": [],
   "source": [
    "def decide(name):\n",
    "    if name:\n",
    "        if len(name) < 11:\n",
    "            return check_reg(name, names)\n",
    "        else:\n",
    "            return False\n",
    "    else:\n",
    "        return True"
   ]
  },
  {
   "cell_type": "markdown",
   "metadata": {},
   "source": [
    "#######################################################################################################################\n"
   ]
  }
 ],
 "metadata": {
  "kernelspec": {
   "display_name": "Python 3",
   "language": "python",
   "name": "python3"
  },
  "language_info": {
   "codemirror_mode": {
    "name": "ipython",
    "version": 3
   },
   "file_extension": ".py",
   "mimetype": "text/x-python",
   "name": "python",
   "nbconvert_exporter": "python",
   "pygments_lexer": "ipython3",
   "version": "3.6.12"
  }
 },
 "nbformat": 4,
 "nbformat_minor": 4
}
